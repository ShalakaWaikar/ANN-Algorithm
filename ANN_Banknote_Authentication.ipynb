{
  "nbformat": 4,
  "nbformat_minor": 0,
  "metadata": {
    "colab": {
      "provenance": []
    },
    "kernelspec": {
      "name": "python3",
      "display_name": "Python 3"
    },
    "language_info": {
      "name": "python"
    }
  },
  "cells": [
    {
      "cell_type": "code",
      "execution_count": null,
      "metadata": {
        "id": "fRH6vBjbAwj7"
      },
      "outputs": [],
      "source": [
        "BankNote_Authentication"
      ]
    },
    {
      "cell_type": "markdown",
      "source": [
        "Import the required libraries"
      ],
      "metadata": {
        "id": "iGZaidonA7A0"
      }
    },
    {
      "cell_type": "code",
      "source": [
        "import matplotlib.pyplot as plt\n",
        "import tensorflow as tf\n",
        "import numpy as np\n",
        "import pandas as pd\n",
        "from sklearn.preprocessing import LabelEncoder\n",
        "from sklearn.utils import  shuffle\n",
        "from sklearn.model_selection import train_test_split\n",
        "import tensorflow.compat.v1 as tf\n",
        "tf.disable_v2_behavior()"
      ],
      "metadata": {
        "colab": {
          "base_uri": "https://localhost:8080/"
        },
        "id": "Qr9uwPtlA3lh",
        "outputId": "04692dbc-af8d-4bcf-b7c2-3f334e8757ae"
      },
      "execution_count": 10,
      "outputs": [
        {
          "output_type": "stream",
          "name": "stderr",
          "text": [
            "WARNING:tensorflow:From /usr/local/lib/python3.9/dist-packages/tensorflow/python/compat/v2_compat.py:107: disable_resource_variables (from tensorflow.python.ops.variable_scope) is deprecated and will be removed in a future version.\n",
            "Instructions for updating:\n",
            "non-resource variables are not supported in the long term\n"
          ]
        }
      ]
    },
    {
      "cell_type": "markdown",
      "source": [
        "define the one hot encode function"
      ],
      "metadata": {
        "id": "oA9pe2jSBCbE"
      }
    },
    {
      "cell_type": "code",
      "source": [
        "def one_hot_encode(labels):\n",
        "    n_labels = len(labels)\n",
        "    n_unique_labels = len(np.unique(labels))\n",
        "    one_hot_encode = np.zeros((n_labels,n_unique_labels))\n",
        "    one_hot_encode[np.arange(n_labels), labels] = 1\n",
        "    return one_hot_encode"
      ],
      "metadata": {
        "id": "ZIV2Ez3-BE1n"
      },
      "execution_count": 2,
      "outputs": []
    },
    {
      "cell_type": "markdown",
      "source": [
        "Read Dataset"
      ],
      "metadata": {
        "id": "nvyA2SSIBLMv"
      }
    },
    {
      "cell_type": "code",
      "source": [
        "df = pd.read_csv(\"BankNote_Authentication.csv\")\n",
        "print(len(df.columns))\n",
        "X = df[df.columns[0:4]].values\n",
        "y=df[df.columns[4]]"
      ],
      "metadata": {
        "colab": {
          "base_uri": "https://localhost:8080/"
        },
        "id": "qE8p0FcSBPHx",
        "outputId": "c0161cc6-e68d-47f3-dda6-c59fa3b63ab6"
      },
      "execution_count": 5,
      "outputs": [
        {
          "output_type": "stream",
          "name": "stdout",
          "text": [
            "5\n"
          ]
        }
      ]
    },
    {
      "cell_type": "markdown",
      "source": [
        "Encode the dependent variable containing categorical values"
      ],
      "metadata": {
        "id": "KbziAVrgBWf1"
      }
    },
    {
      "cell_type": "code",
      "source": [
        "encoder = LabelEncoder()\n",
        "encoder.fit(y)\n",
        "y = encoder.transform(y)\n",
        "Y = one_hot_encode(y)"
      ],
      "metadata": {
        "id": "xY_4X_z0BJRH"
      },
      "execution_count": 6,
      "outputs": []
    },
    {
      "cell_type": "markdown",
      "source": [
        "Transform the data in training and testing\n"
      ],
      "metadata": {
        "id": "mqWXUJ1sBsN0"
      }
    },
    {
      "cell_type": "code",
      "source": [
        "X,Y = shuffle(X,Y,random_state=1)\n",
        "train_x,test_x,train_y,test_y = train_test_split(X,Y,test_size=0.20, random_state=42)"
      ],
      "metadata": {
        "id": "2vMpI9A6BysJ"
      },
      "execution_count": 7,
      "outputs": []
    },
    {
      "cell_type": "markdown",
      "source": [
        "Define and initialize the variables to work with the tensors\n"
      ],
      "metadata": {
        "id": "GubNAf60B24o"
      }
    },
    {
      "cell_type": "code",
      "source": [
        "learning_rate = 0.3\n",
        "training_epochs = 100"
      ],
      "metadata": {
        "id": "EzdGRwZQB6zH"
      },
      "execution_count": 17,
      "outputs": []
    },
    {
      "cell_type": "markdown",
      "source": [
        "Array to store cost obtained in each epoch\n"
      ],
      "metadata": {
        "id": "sa2igtMmCBRi"
      }
    },
    {
      "cell_type": "code",
      "source": [
        "cost_history = np.empty(shape=[1],dtype=float)\n",
        " \n",
        "n_dim = X.shape[1]\n",
        "n_class = 2\n",
        " \n",
        "x = tf.placeholder(tf.float32,[None, n_dim])\n",
        "W = tf.Variable(tf.zeros([n_dim,n_class]))\n",
        "b = tf.Variable(tf.zeros([n_class]))"
      ],
      "metadata": {
        "id": "MoauAcOCB_pA"
      },
      "execution_count": 18,
      "outputs": []
    },
    {
      "cell_type": "markdown",
      "source": [
        "Initialize all variables.\n"
      ],
      "metadata": {
        "id": "ic8Yu2voCep0"
      }
    },
    {
      "cell_type": "code",
      "source": [
        "init = tf.global_variables_initializer()"
      ],
      "metadata": {
        "id": "2_9eIqSpCiZ8"
      },
      "execution_count": 19,
      "outputs": []
    },
    {
      "cell_type": "markdown",
      "source": [
        " \n",
        "Define the cost function\n"
      ],
      "metadata": {
        "id": "P7p8wT-sCmHA"
      }
    },
    {
      "cell_type": "code",
      "source": [
        "y_ = tf.placeholder(tf.float32,[None,n_class])\n",
        "y = tf.nn.softmax(tf.matmul(x, W)+ b)\n",
        "cost_function = tf.reduce_mean(-tf.reduce_sum((y_ * tf.log(y)),reduction_indices=[1]))\n",
        "training_step = tf.train.GradientDescentOptimizer(learning_rate).minimize(cost_function)"
      ],
      "metadata": {
        "id": "JX1QJOikCqGE"
      },
      "execution_count": 20,
      "outputs": []
    },
    {
      "cell_type": "markdown",
      "source": [
        "Initialize the session\n"
      ],
      "metadata": {
        "id": "F190flc7CwhP"
      }
    },
    {
      "cell_type": "code",
      "source": [
        "sess = tf.Session()\n",
        "sess.run(init)\n",
        "mse_history = []"
      ],
      "metadata": {
        "id": "Xzy-QvUSCz3_"
      },
      "execution_count": 21,
      "outputs": []
    },
    {
      "cell_type": "markdown",
      "source": [
        "Calculate the cost for each epoch\n"
      ],
      "metadata": {
        "id": "vHlPQeCtC3TJ"
      }
    },
    {
      "cell_type": "code",
      "source": [
        "for epoch in range(training_epochs):\n",
        "    sess.run(training_step,feed_dict={x:train_x,y_:train_y})\n",
        "    cost = sess.run(cost_function,feed_dict={x: train_x,y_: train_y})\n",
        "    cost_history = np.append(cost_history,cost)\n",
        "    print('epoch : ', epoch,  ' - ', 'cost: ', cost)\n",
        " \n",
        "pred_y = sess.run(y, feed_dict={x: test_x})"
      ],
      "metadata": {
        "colab": {
          "base_uri": "https://localhost:8080/"
        },
        "id": "Snuroe7rC7mN",
        "outputId": "8106118a-7ad5-4204-cedd-43b195860b99"
      },
      "execution_count": 22,
      "outputs": [
        {
          "output_type": "stream",
          "name": "stdout",
          "text": [
            "epoch :  0  -  cost:  0.7978837\n",
            "epoch :  1  -  cost:  0.22671172\n",
            "epoch :  2  -  cost:  0.23990792\n",
            "epoch :  3  -  cost:  0.15014303\n",
            "epoch :  4  -  cost:  0.14130199\n",
            "epoch :  5  -  cost:  0.13066609\n",
            "epoch :  6  -  cost:  0.12510158\n",
            "epoch :  7  -  cost:  0.12035792\n",
            "epoch :  8  -  cost:  0.1163529\n",
            "epoch :  9  -  cost:  0.112760834\n",
            "epoch :  10  -  cost:  0.10948915\n",
            "epoch :  11  -  cost:  0.10648043\n",
            "epoch :  12  -  cost:  0.103698075\n",
            "epoch :  13  -  cost:  0.10111406\n",
            "epoch :  14  -  cost:  0.098705485\n",
            "epoch :  15  -  cost:  0.09645323\n",
            "epoch :  16  -  cost:  0.094341084\n",
            "epoch :  17  -  cost:  0.09235519\n",
            "epoch :  18  -  cost:  0.09048355\n",
            "epoch :  19  -  cost:  0.0887158\n",
            "epoch :  20  -  cost:  0.087042846\n",
            "epoch :  21  -  cost:  0.08545672\n",
            "epoch :  22  -  cost:  0.08395037\n",
            "epoch :  23  -  cost:  0.08251754\n",
            "epoch :  24  -  cost:  0.08115267\n",
            "epoch :  25  -  cost:  0.07985076\n",
            "epoch :  26  -  cost:  0.078607336\n",
            "epoch :  27  -  cost:  0.07741834\n",
            "epoch :  28  -  cost:  0.07628011\n",
            "epoch :  29  -  cost:  0.07518935\n",
            "epoch :  30  -  cost:  0.074143015\n",
            "epoch :  31  -  cost:  0.073138356\n",
            "epoch :  32  -  cost:  0.07217286\n",
            "epoch :  33  -  cost:  0.07124418\n",
            "epoch :  34  -  cost:  0.070350215\n",
            "epoch :  35  -  cost:  0.06948899\n",
            "epoch :  36  -  cost:  0.068658695\n",
            "epoch :  37  -  cost:  0.067857675\n",
            "epoch :  38  -  cost:  0.06708435\n",
            "epoch :  39  -  cost:  0.0663373\n",
            "epoch :  40  -  cost:  0.06561517\n",
            "epoch :  41  -  cost:  0.06491672\n",
            "epoch :  42  -  cost:  0.0642408\n",
            "epoch :  43  -  cost:  0.063586295\n",
            "epoch :  44  -  cost:  0.06295221\n",
            "epoch :  45  -  cost:  0.062337607\n",
            "epoch :  46  -  cost:  0.061741546\n",
            "epoch :  47  -  cost:  0.06116325\n",
            "epoch :  48  -  cost:  0.060601894\n",
            "epoch :  49  -  cost:  0.060056742\n",
            "epoch :  50  -  cost:  0.05952711\n",
            "epoch :  51  -  cost:  0.05901234\n",
            "epoch :  52  -  cost:  0.058511794\n",
            "epoch :  53  -  cost:  0.058024902\n",
            "epoch :  54  -  cost:  0.05755111\n",
            "epoch :  55  -  cost:  0.057089888\n",
            "epoch :  56  -  cost:  0.056640744\n",
            "epoch :  57  -  cost:  0.056203213\n",
            "epoch :  58  -  cost:  0.055776846\n",
            "epoch :  59  -  cost:  0.055361215\n",
            "epoch :  60  -  cost:  0.054955922\n",
            "epoch :  61  -  cost:  0.05456059\n",
            "epoch :  62  -  cost:  0.05417485\n",
            "epoch :  63  -  cost:  0.05379835\n",
            "epoch :  64  -  cost:  0.053430777\n",
            "epoch :  65  -  cost:  0.05307181\n",
            "epoch :  66  -  cost:  0.052721146\n",
            "epoch :  67  -  cost:  0.0523785\n",
            "epoch :  68  -  cost:  0.052043606\n",
            "epoch :  69  -  cost:  0.05171619\n",
            "epoch :  70  -  cost:  0.051396027\n",
            "epoch :  71  -  cost:  0.05108286\n",
            "epoch :  72  -  cost:  0.050776467\n",
            "epoch :  73  -  cost:  0.050476626\n",
            "epoch :  74  -  cost:  0.050183136\n",
            "epoch :  75  -  cost:  0.049895786\n",
            "epoch :  76  -  cost:  0.049614396\n",
            "epoch :  77  -  cost:  0.049338777\n",
            "epoch :  78  -  cost:  0.049068756\n",
            "epoch :  79  -  cost:  0.048804164\n",
            "epoch :  80  -  cost:  0.048544828\n",
            "epoch :  81  -  cost:  0.04829061\n",
            "epoch :  82  -  cost:  0.04804134\n",
            "epoch :  83  -  cost:  0.047796886\n",
            "epoch :  84  -  cost:  0.047557116\n",
            "epoch :  85  -  cost:  0.047321882\n",
            "epoch :  86  -  cost:  0.047091056\n",
            "epoch :  87  -  cost:  0.046864524\n",
            "epoch :  88  -  cost:  0.04664217\n",
            "epoch :  89  -  cost:  0.046423864\n",
            "epoch :  90  -  cost:  0.046209503\n",
            "epoch :  91  -  cost:  0.045998983\n",
            "epoch :  92  -  cost:  0.045792196\n",
            "epoch :  93  -  cost:  0.04558905\n",
            "epoch :  94  -  cost:  0.045389436\n",
            "epoch :  95  -  cost:  0.045193277\n",
            "epoch :  96  -  cost:  0.04500048\n",
            "epoch :  97  -  cost:  0.044810947\n",
            "epoch :  98  -  cost:  0.0446246\n",
            "epoch :  99  -  cost:  0.044441372\n"
          ]
        }
      ]
    },
    {
      "cell_type": "markdown",
      "source": [
        "#Calculate Accuracy\n"
      ],
      "metadata": {
        "id": "JRxJFcZqDMPw"
      }
    },
    {
      "cell_type": "code",
      "source": [
        "correct_prediction = tf.equal(tf.argmax(pred_y,1), tf.argmax(test_y,1))\n",
        "accuracy = tf.reduce_mean(tf.cast(correct_prediction, tf.float32))\n",
        "print(\"Accuracy:\",sess.run(accuracy))\n",
        " \n",
        "plt.plot(range(len(cost_history)),cost_history)\n",
        "plt.xlabel('Epoch')\n",
        "plt.ylabel('Accuracy')\n",
        "plt.axis([0,training_epochs,0,np.max(cost_history)])\n",
        "plt.show()"
      ],
      "metadata": {
        "colab": {
          "base_uri": "https://localhost:8080/",
          "height": 296
        },
        "id": "SynMWcqjC2QC",
        "outputId": "e05c7961-3ab8-4412-d1dd-1ec62f150b9c"
      },
      "execution_count": 25,
      "outputs": [
        {
          "output_type": "stream",
          "name": "stdout",
          "text": [
            "Accuracy: 0.9890909\n"
          ]
        },
        {
          "output_type": "display_data",
          "data": {
            "text/plain": [
              "<Figure size 432x288 with 1 Axes>"
            ],
            "image/png": "[encoded data removed]"
          },
          "metadata": {
            "needs_background": "light"
          }
        }
      ]
    }
  ]
}